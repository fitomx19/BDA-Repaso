{
 "cells": [
  {
   "cell_type": "markdown",
   "metadata": {},
   "source": [
    "### Repaso Examen de Base de Datos Avanzados CheatSheet"
   ]
  },
  {
   "cell_type": "markdown",
   "metadata": {},
   "source": [
    "Por  Adolfo Huerta"
   ]
  },
  {
   "cell_type": "markdown",
   "metadata": {},
   "source": [
    "#### Data Lake - Data Warehouse"
   ]
  },
  {
   "cell_type": "markdown",
   "metadata": {},
   "source": [
    "Definicion:\n",
    "<br> \n",
    "- DSS Sistema de Soporte de decisiones\n",
    "- Un sistema de apoyo a la toma de decisiones (DSS) es una aplicación\n",
    "informática interactiva que combina datos y modelos matemáticos para\n",
    "ayudar a los responsables de la toma de decisiones a resolver problemas\n",
    "complejos que se enfrentan en la gestión de las empresas y organizaciones\n",
    "públicas y privadas. "
   ]
  },
  {
   "cell_type": "markdown",
   "metadata": {},
   "source": [
    "- ### Caracteristicas DSS\n",
    "- Permite extraer y manipular información de una\n",
    "manera flexible.\n",
    "- Capacidad de análisis multidimensional (OLAP)\n",
    "- DSS pasivo.- Es un sistema de ayuda para el proceso de toma de decisiones, pero\n",
    "que no puede llevar a cabo una decisión explícita, sugerencias o soluciones.\n",
    "- DSS activo.- Puede llevar a cabo dicha decisión, sugerencias o soluciones.\n",
    "- DSS cooperativo.- Permite al encargado de la toma de decisiones (o a sus asesores)\n",
    "modificar, completar o perfeccionar las sugerencias de decisión proporcionadas por\n",
    "el sistema, antes de enviar de vuelta al sistema para su validación. El nuevo sistema\n",
    "mejora, completa y precisa las sugerencias del tomador de la decisión y las envía de\n",
    "vuelta a su estado para su validación. Entonces, todo el proceso comienza de nuevo,\n",
    "hasta que se genera una solución consolidada.\n",
    "--------------------------------------------------------------------------------------------------\n",
    "- Decisiones estratégicas. Las decisiones son estratégicas cuando afectan a toda la organización o al menos a una parte\n",
    "sustancial de ella durante un largo período de tiempo\n",
    "- Decisiones tácticas. Las decisiones tácticas sólo afectan a partes de una empresa y suelen estar restringidas a un único\n",
    "departamento. \n",
    "- Decisiones operativas. Las decisiones operacionales se refieren a actividades específicas que se llevan a cabo dentro de una\n",
    "organización y tienen un impacto modesto en el futuro.\n",
    "-------------------------------------------------------------------------------------------------\n",
    "### Fases de desarrollo de un DSS\n",
    "- Planeacion \n",
    "- Análisis\n",
    "- Diseño\n",
    "- Implementacion\n",
    "- Entrega\n",
    "---------------------------------------------------------------------------------------------------\n",
    "\n",
    "#### Data Warehouse\n",
    "\n",
    "- “El Data Warehouse es una colección de datos, orientados a un\n",
    "tema, integrados, no volátiles, variantes en el tiempo, organizados para el apoyo a toma\n",
    "de decisiones.”\n",
    "-  En este sentido, el principal objetivo del DW es facilitar la consulta de los datos por parte de\n",
    "los usuarios. Con ello, es posible generar reportes históricos, análisis estadísticos,\n",
    "predicciones, comparaciones, proyecciones y demás. Esto con la finalidad de poder tomar\n",
    "decisiones estratégicas cada vez más acertadas.\n",
    "- ##### Finalidad\n",
    "- ¿Qué están comprando nuestros clientes? ¿Qué no están comprando? ¿Qué incentivos han\n",
    "funcionado antes con los mismos clientes en esta época del año?.\n",
    "- ¿Cuántos de nuestros vendedores visitan a un mismo cliente?.\n",
    "- ¿Qué están haciendo nuestros competidores?\n",
    "- ¿Cómo se comparan nuestros costos para cada línea de producto durante los últimos tres años?.\n",
    "--------------------------------------------------------------------------------------------------------\n",
    "### Caracteristicas de DW\n",
    "- Orientado a entidades, Integrado , Variante en el Tiempo, Persistente, Fusionado, Desnormalizado\n",
    "<br>\n",
    "- Los departamentos de datos (Data Marts DM) son sistemas\n",
    "que recopilan todos los datos requeridos por un\n",
    "departamento específico de la empresa, como marketing o\n",
    "logística, con el fin de realizar análisis de BI y ejecutar\n",
    "aplicaciones de apoyo a la toma de decisiones específicas\n",
    "para la propia función."
   ]
  },
  {
   "cell_type": "markdown",
   "metadata": {},
   "source": [
    "#### Data Lake\n",
    "- Un data lake es un repositorio de almacenamiento centralizado que contiene Big Data de varias\n",
    "fuentes en un formato granular y sin procesar.\n",
    "- El término «data lake» fue acuñado por James Dixon, director tecnológico de Pentaho, y hace\n",
    "referencia a la naturaleza particular de los datos de un DL, a diferencia de los datos limpios y\n",
    "procesados guardados en los sistemastradicionales de almacenes de datos.\n",
    "- Un DL funciona a partir de un\n",
    "principio llamado schema-on-read o esquema\n",
    "contra escritura. Esto significa que no existe un\n",
    "esquema predefinido en el que deban encajarse los\n",
    "datos antes de almacenarlos.\n",
    "\n",
    "\n"
   ]
  },
  {
   "cell_type": "markdown",
   "metadata": {},
   "source": [
    "### OLAP"
   ]
  },
  {
   "cell_type": "markdown",
   "metadata": {},
   "source": [
    "OLAP es el acrónimo en inglés de procesamiento analítico en línea'Business Intelligence) cuyo objetivo es agilizar la consulta de grandes cantidades de datos. Para ello utiliza estructuras de datos diversas, normalmente multidimensionales (o Cubos OLAP), que contienen datos resumidos de grandes Bases de datos o Sistemas Transaccionales (OLTP). Se usa en informes de negocios de ventas, marketing, informes de dirección, minería de datos y áreas similares."
   ]
  },
  {
   "cell_type": "markdown",
   "metadata": {},
   "source": [
    "### OLTP"
   ]
  },
  {
   "cell_type": "markdown",
   "metadata": {},
   "source": [
    "OLTP es la sigla en inglés de Procesamiento de Transacciones En Línea (OnLine Transaction Processing). Es un tipo de procesamiento que facilita y administra aplicaciones transaccionales, usualmente para entrada de datos y recuperación y procesamiento de transacciones (gestor transaccional). Los paquetes de software para OLTP se basan en la arquitectura cliente-servidor ya que suelen ser utilizados por empresas con una red informática distribuida."
   ]
  },
  {
   "cell_type": "markdown",
   "metadata": {},
   "source": [
    "![Esta mamada](img/2.png)"
   ]
  },
  {
   "cell_type": "markdown",
   "metadata": {},
   "source": [
    "#### ETL\n",
    "- ETL se refiere a las herramientas de software que se dedican a realizar de forma\n",
    "automática tres funciones principales: extracción, transformación y carga de datos en\n",
    "el DW\n",
    "- Extracción. Durante la primera fase, los datos se extraen de las fuentes internas y\n",
    "externas disponibles. \n",
    "- Transformación. El objetivo de la fase de limpieza y transformación es mejorar la calidad\n",
    "de los datos extraídos de las diferentes fuentes, a través de la corrección de\n",
    "incoherencias, inexactitudes y valores faltantes.\n",
    "-  Carga. Por último, después de ser extraídos y transformados, los datos se cargan en las\n",
    "tablas del DW para ponerlos a disposición de los analistas y las aplicaciones de apoyo a la\n",
    "toma de decisiones. Se debe considerar la carga de datos de la siguiente manera:\n",
    "    - Replicar las tablas de dimensiones\n",
    "    - Replicar la tabla de hechos\n",
    "    - Realizar una carga automática\n",
    "    - Indexar los datos para un mayor rendimiento\n"
   ]
  },
  {
   "cell_type": "markdown",
   "metadata": {},
   "source": [
    "![Esta mamada](img/1.png)"
   ]
  },
  {
   "cell_type": "markdown",
   "metadata": {},
   "source": [
    "### IMPORTANTE DE TODAS LAS PRACTICAS\n",
    "\n",
    "- El comando CREATE para crear objetos puede sustituirse por DROP y ALTER\n",
    "para borrar y modificar el objeto en cuestión:\n",
    "- CREATE USER: Crea un usuario, una cuenta para acceder a la BD.\n",
    "- CREATE ROLE: Crea un conjunto de privilegios con un nombre.\n",
    "- GRANT: Otorga roles y permisos (o privilegios) del sistema o de objetos a\n",
    "usuarios. Los privilegios se retiran con el comando REVOKE.\n"
   ]
  },
  {
   "cell_type": "markdown",
   "metadata": {},
   "source": [
    "``` sql\n",
    "GRANT {lista_privilegios | ALL\n",
    "PRIVILEGES}\n",
    "ON nombre_objeto\n",
    "TO{lista_id_aut | PUBLIC}\n",
    "[WITH GRANT OPTION]\n",
    "```"
   ]
  },
  {
   "cell_type": "markdown",
   "metadata": {},
   "source": [
    "Crear Roles y asignar privilegios"
   ]
  },
  {
   "cell_type": "markdown",
   "metadata": {},
   "source": [
    "``` sql\n",
    "create role manager\n",
    "grant select on branch to manager\n",
    "grant update\n",
    "(balance) on account to\n",
    "manager\n",
    "grant all privileges on account to\n",
    "manager\n",
    "grant manager to user1, user2\n",
    "```"
   ]
  },
  {
   "cell_type": "markdown",
   "metadata": {},
   "source": [
    "#### Modelo dimensional OLAP"
   ]
  },
  {
   "cell_type": "markdown",
   "metadata": {},
   "source": [
    "### Modelo Multidimencional"
   ]
  },
  {
   "cell_type": "markdown",
   "metadata": {},
   "source": [
    "![Esta mamada](Imagen1.png)"
   ]
  },
  {
   "cell_type": "markdown",
   "metadata": {},
   "source": [
    "![Esta mamada](img/5.PNG)"
   ]
  },
  {
   "cell_type": "markdown",
   "metadata": {},
   "source": [
    "Modelo Multidimencional (ejemplo)"
   ]
  },
  {
   "cell_type": "markdown",
   "metadata": {},
   "source": [
    "Las tablas de hechos (del inglés fact tables) son:\n",
    "\n",
    "- la tabla principal del modelo dimensional\n",
    "- contienen campos claves que se unen a las tablas de dimensión\n",
    "- contiene métricas o también llamadas medidas y es aquello que queremos medir o analizar. Generalmente son valores numéricos que se suelen agregar\n",
    "- evitan la redundancia de atributos por estas estos en las tablas de dimensiones\n",
    "- normalmente tienen muchos (millones) registros\n",
    "- por ejemplo: ventas, compras, movimientos de contabilidad"
   ]
  },
  {
   "cell_type": "markdown",
   "metadata": {},
   "source": [
    "Las tablas de dimensión (del inglés dimension table) son:\n",
    "- tablas simples desnormalizadas\n",
    "- se unen a las tablas de hechos a través de un campo clave\n",
    "- los atributos de la tabla de dimensión ofrecen información característica de las tablas de hechos\n",
    "- no hay límite de tablas de dimensión\n",
    "- las dimensiones pueden contener una o varias relaciones jerárquicas\n",
    "- normalmente tiene pocos (miles) registros\n",
    "- por ejemplo: clientes, productos, almacenes, proveedores, calendario..."
   ]
  },
  {
   "cell_type": "markdown",
   "metadata": {},
   "source": [
    "![Esta mamada](estrella.png)\n",
    "<br>Modelo Estrella"
   ]
  },
  {
   "cell_type": "markdown",
   "metadata": {},
   "source": [
    "![Esta mamada](coponieve.png)\n",
    "<br>\n",
    "Modelo Copo de nieve"
   ]
  },
  {
   "cell_type": "markdown",
   "metadata": {},
   "source": [
    "### Drill-down\n",
    "- Permite la navegación a través de un cubo de datos desde información\n",
    "agregada y consolidada hasta información más detallada.\n",
    "- Por ejemplo, en el caso de la dimensión {ubicación}, es posible pasar del nivel {provincia} al\n",
    "nivel {ciudad} y desagregar las medidas temáticas de interés sobre todos los registros en los\n",
    "que la ciudad pertenece a la misma provincia.\n",
    "### Roll-up\n",
    "- Consiste en una agregación de datos en el cubo, que se puede obtener\n",
    "alternativamente en las dos vías siguientes.\n",
    "-  Avanzar hacia arriba a un nivel superior a lo largo de una única dimensión definida en una jerarquía\n",
    "de conceptos. \n",
    "- Por ejemplo, para la dimensión {ubicación} es posible pasar del nivel {ciudad} al nivel {provincia} y\n",
    "consolidar las medidas de interés a través de una suma condicionada grupo por todos los registros\n",
    "en los que la ciudad pertenece a la misma provincia.\n",
    "### SLICE\n",
    "- Obtiene un cubo en un subespacio seleccionando varias dimensiones simultáneamente.\n",
    "### Dice\n",
    "- Obtiene un cubo en un subespacio seleccionando varias\n",
    "dimensiones simultáneamente."
   ]
  },
  {
   "cell_type": "markdown",
   "metadata": {},
   "source": [
    "Sintaxis MDX\n",
    "``` sql\n",
    " Para obtener, por ejemplo, el importe de las ventas para el año 2018 para la familia de\n",
    "productos lácteos, la consulta seria:\n",
    "SELECT {[medidas].[importe ventas]} on columns,\n",
    "{[tiempo].[2018]} on rows\n",
    "FROM [cubo_ventas]\n",
    "WHERE ([Familia].[lácteos])\n",
    "```"
   ]
  },
  {
   "cell_type": "markdown",
   "metadata": {},
   "source": [
    "``` sql\n",
    "SELECT Measures.[Internet Sales Amount]\n",
    "on COLUMNS,\n",
    "{[Customer].[Country].[France],\n",
    "[Customer].[Country].[Germany],\n",
    "[Customer].[Country].[United Kingdom]}\n",
    "on ROWS\n",
    "FROM [Adventure Works] \n",
    "```"
   ]
  },
  {
   "cell_type": "markdown",
   "metadata": {},
   "source": [
    "Ejemplo Roll Up"
   ]
  },
  {
   "cell_type": "markdown",
   "metadata": {},
   "source": [
    "``` sql\n",
    "MDX\n",
    "SELECT [SALES].[AMOUNT] ON\n",
    "COLUMNS,\n",
    "[store].[Houston] ON ROWS\n",
    "FROM SALES\n",
    "\n",
    "SQL\n",
    "select sum(amount), area\n",
    "from SALES\n",
    "where (area=‘Houston') group by area\n",
    "\n",
    "\n",
    "```"
   ]
  },
  {
   "cell_type": "markdown",
   "metadata": {},
   "source": [
    "Ejemplo drilldown"
   ]
  },
  {
   "cell_type": "markdown",
   "metadata": {},
   "source": [
    "\n",
    "``` sql\n",
    "MDX\n",
    "SELECT [SALES].[AMOUNT] ON COLUMNS,\n",
    "[time].[2003].[Q4].[Dec].[31],\n",
    "[time].[2003].[Q4].[Dec].[30],… …,\n",
    "[time].[2003].[Q4].[Dec].[2],\n",
    "[time].[2003].[Q4].[Dec].[1] ON ROWS FROM\n",
    "SALES\n",
    "\n",
    "SQL\n",
    "select sum(amount), the_date\n",
    "from SALES\n",
    "where (the_date='2003-Dec-31')\n",
    "or (the_date='2003-Dec-30')\n",
    "or… …or (the_date='2003-Dec-2')\n",
    "or (the_date='2003-Dec-1') group by\n",
    "the_date\n",
    "\n",
    "```\n",
    "\n",
    "Ejemplo slice\n",
    "``` sql\n",
    "MDX\n",
    "SELECT [SALES].[AMOUNT] ON COLUMNS,\n",
    "[store].[Houston].[292] ON ROWS FROM\n",
    "SALES\n",
    " SQL\n",
    "select sum(amount), storecode\n",
    "from SALES\n",
    "where (storecode='292') group by\n",
    "storecode\n",
    "```\n",
    "\n",
    "Ejemplo Dice\n",
    "``` sql\n",
    "MDX\n",
    "SELECT [SALES].[AMOUNT] ON COLUMNS,\n",
    "[store].[HK],[store].[NT],\n",
    "[store].[Houston] ON ROWS\n",
    "FROM SALES WHERE\n",
    "[time].[2003].[Q4].[Dec].[24]\n",
    " SQL\n",
    "select sum(amount), area\n",
    "from SALES\n",
    "where ( (area='HK') or (area='NT') or\n",
    "(area=‘Houston'))\n",
    "and (the_date='2003-Dec-24')\n",
    "group by area\n",
    "```\n",
    "Más ejemplos\n",
    "\n",
    "- Familia].[lácteos].CurrentMember : Permite acceder al\n",
    "miembro actual\n",
    "-  [Familia].[lácteos].Children : Permite acceder a los hijos de la\n",
    "familia de los lácteos\n",
    "- [Familia].[lácteos].prevMember: Permite acceder al miembro\n",
    "anterior de la dimensión\n"
   ]
  },
  {
   "cell_type": "markdown",
   "metadata": {},
   "source": [
    "### Orientado a Objetos\n",
    "\n",
    "Consultas Procedures Oracle PLSQL\n",
    "``` sql\n",
    "CREATE FUNCTION check_sal RETURN Boolean IS\n",
    "dept_id employees.department_id%TYPE;\n",
    "empno employees.employee_id%TYPE;\n",
    "sal employees.salary%TYPE;\n",
    "avg_sal employees.salary%TYPE;\n",
    "BEGIN\n",
    "empno:=205;\n",
    "SELECT salary,department_id INTO sal,dept_id\n",
    "FROM employees WHERE employee_id= empno;\n",
    "SELECT avg(salary) INTO avg_sal FROM employees\n",
    "WHERE department_id=dept_id;\n",
    "IF sal > avg_sal THEN\n",
    " RETURN TRUE;\n",
    "ELSE\n",
    " RETURN FALSE;\n",
    "END IF;\n",
    "EXCEPTION\n",
    " WHEN NO_DATA_FOUND THEN\n",
    " RETURN NULL;\n",
    " END;\n",
    " ```\n",
    " "
   ]
  },
  {
   "cell_type": "markdown",
   "metadata": {},
   "source": [
    "Para mandarla a llamar"
   ]
  },
  {
   "cell_type": "markdown",
   "metadata": {},
   "source": [
    "``` sql\n",
    "SET SERVEROUTPUT ON\n",
    "BEGIN\n",
    "IF (check_sal IS NULL) THEN\n",
    "DBMS_OUTPUT.PUT_LINE('The function returned\n",
    " NULL due to exception');\n",
    "ELSIF (check_sal) THEN\n",
    "DBMS_OUTPUT.PUT_LINE('Salary > average');\n",
    "ELSE\n",
    "DBMS_OUTPUT.PUT_LINE('Salary < average');\n",
    "END IF;\n",
    "END;\n",
    "```"
   ]
  },
  {
   "cell_type": "markdown",
   "metadata": {},
   "source": [
    "### Crear tabla Objeto PL/SQL\n",
    "``` sql\n",
    "CREATE TYPE address_typ AS OBJECT ( \n",
    "   street          VARCHAR2(30),\n",
    "   city            VARCHAR2(20),\n",
    "   state           CHAR(2),\n",
    "   postal_code     VARCHAR2(6) );\n",
    "   ``` \n",
    "\n",
    "``` sql\n",
    "\n",
    "CREATE TYPE employee_typ AS OBJECT (\n",
    "  employee_id       NUMBER(6),\n",
    "  first_name        VARCHAR2(20),\n",
    "  last_name         VARCHAR2(25),\n",
    "  email             VARCHAR2(25),\n",
    "  phone_number      VARCHAR2(20),\n",
    "  hire_date         DATE,\n",
    "  job_id            VARCHAR2(10),\n",
    "  salary            NUMBER(8,2),\n",
    "  commission_pct    NUMBER(2,2),\n",
    "  manager_id        NUMBER(6),\n",
    "  department_id     NUMBER(4),\n",
    "  address           address_typ,\n",
    "  MAP MEMBER FUNCTION get_idno RETURN NUMBER,\n",
    "  MEMBER PROCEDURE display_address ( SELF IN OUT NOCOPY employee_typ ) );\n",
    "  ```\n",
    "\n",
    "#### Consulta a tabla\n",
    "``` sql\n",
    "  DECLARE\n",
    "  emp employee_typ;\n",
    "BEGIN\n",
    "  SELECT VALUE(e) INTO emp FROM employee_tab  WHERE e.employee_id = 310;\n",
    "  emp.display_address();\n",
    "END;\n",
    "/\n",
    "```\n",
    "#### Ejemplo extraido de la RED\n",
    "``` SQL\n",
    "DROP TYPE Student;\n",
    "DROP TYPE Person;\n",
    "\n",
    "CREATE OR REPLACE TYPE Person As Object (\n",
    "\tfirstName\tVARCHAR2(30),\n",
    "\tlastName\tVARCHAR2(30),\n",
    "\tphoneNumber\tCHAR(10)\n",
    ") NOT FINAL;\n",
    "/\n",
    "CREATE OR REPLACE TYPE Student UNDER Person (\n",
    "\tstudentID\tCHAR(7),\n",
    "\tMEMBER FUNCTION GetGrades RETURN VARCHAR2\n",
    ");\n",
    "/\n",
    "CREATE OR REPlACE TYPE BODY Student AS\n",
    "\tMEMBER FUNCTION GetGrades RETURN VARCHAR2 IS\n",
    "\t\tgrades\tVARCHAR2(50) := 'LOL Grades';\n",
    "\tBEGIN\n",
    "\t\tRETURN grades;\n",
    "\tEND;\n",
    "END;\n",
    "/\n",
    "\n",
    "CREATE TABLE persons OF Person;\n",
    "CREATE TABLE students OF Student;\n",
    "\n",
    "set serveroutput on\n",
    "DECLARE\n",
    "\taPerson Person;\n",
    "\taStudent Student;\n",
    "BEGIN\n",
    "\taPerson := Person('Luc-Olivier', 'Dumais-Blais', '8195551234');\n",
    "\taStudent := Student('Yanik', 'Magnan', '8195551235', '1234567');\n",
    "\tDBMS_OUTPUT.PUT_LINE(aPerson.firstName || ' ' || aPerson.lastName || '''s phone number: ' || aPerson.phoneNumber);\n",
    "\tDBMS_OUTPUT.PUT_LINE(aStudent.firstName || '''s grades: ' || aStudent.GetGrades);\n",
    "\n",
    "\tINSERT INTO persons VALUES aPerson;\n",
    "\tINSERT INTO students VALUES aStudent;\n",
    "END;\n",
    "/\n",
    "```"
   ]
  },
  {
   "cell_type": "markdown",
   "metadata": {},
   "source": [
    "Ejemplo Base de datos orientada a objetos"
   ]
  },
  {
   "cell_type": "markdown",
   "metadata": {},
   "source": [
    "![alt text](./img/3.PNG)"
   ]
  },
  {
   "cell_type": "markdown",
   "metadata": {},
   "source": [
    "OO Diagram "
   ]
  },
  {
   "cell_type": "markdown",
   "metadata": {},
   "source": [
    "![alt text](./img/5.jpeg)"
   ]
  },
  {
   "cell_type": "markdown",
   "metadata": {},
   "source": [
    "Aqui ira la practica para crear esta base de datos"
   ]
  },
  {
   "cell_type": "markdown",
   "metadata": {},
   "source": [
    "``` sql\n",
    "CREATE OR REPLACE TYPE Payment As Object (\n",
    "\tamount\tNUMBER(100)\n",
    ") NOT FINAL;\n",
    "/\n",
    "\n",
    " \n",
    "\n",
    "CREATE OR REPLACE TYPE Credit UNDER Payment (\n",
    "\tnumber\tVARCHAR(100),\n",
    "\ttype VARCHAR(100),\n",
    "\texpireDate DATE \n",
    ");\n",
    "/\n",
    "\n",
    "CREATE OR REPLACE TYPE Cash UNDER Payment (\n",
    "\tcashTendered\tNUMBER(100),\n",
    ");\n",
    "/\n",
    "\n",
    "CREATE OR REPLACE TYPE Check UNDER Payment (\n",
    "\tname\tVARCHAR2(100),\n",
    "\tbankID\tVARCHAR2(100),\n",
    "\tMEMBER procedure authorized \n",
    ");\n",
    "/\n",
    "\n",
    "CREATE OR REPLACE TYPE BODY authorized as (\n",
    "\tmember procedure authorized as\n",
    "\t\tBEGIN\n",
    "\t\t...\n",
    "\t\tEND;\n",
    "\tEND;\n",
    ")\n",
    "\n",
    "CREATE OR REPLACE TYPE WireTransfer UNDER Payment (\n",
    "\tbankID\tVARCHAR2(100),\n",
    "\tbankName\tVARCHAR2(100),\n",
    ");\n",
    "/\n",
    "\n",
    "\n",
    "CREATE type Address as object (\n",
    "\tcalle VARCHAR2(20),\n",
    "\tcolonia VARCHAR2(20),\n",
    "\tdelegacion VARCHAR(20),\n",
    "\tciudad VARCHAR(20)\n",
    ");\n",
    "\n",
    "Create Customer as object (\n",
    "\tname varchar(20),\n",
    "\tAddress Adress\n",
    ")\n",
    "\n",
    "CREATE OR REPLACE TYPE Order as Object (\n",
    "\tdate Date,\n",
    "\tstatus  VARCHAR(100),\n",
    "\tMEMBER procedure calcSubTotal \n",
    "\tMEMBER procedure calcTotalTax \n",
    "\tMEMBER procedure calcTotal\n",
    "\tMEMBER procedure calctotalWeight  \n",
    ")\n",
    "\n",
    "CREATE OR REPLACE TYPE OrderDetal as Object (\n",
    "\tquantity quantity,\n",
    "\ttaxStatus VARCHAR(100),\n",
    "\tMEMBER procedure calcSubTotal \n",
    "\tMEMBER procedure calcTax \n",
    "\tMEMBER procedure calcWeight  \n",
    "\tMEMBER PROCEDURE another_more (num IN NUMBER) RETURN NUMBER,\n",
    ")\n",
    "\n",
    "CREATE type quantity as object (\n",
    "\tnumberCuantity NUMBER(100),\n",
    "\tdesCuantity VARCHAR(100)\n",
    "\n",
    ");\n",
    "\n",
    "CREATE OR REPLACE TYPE Item as Object (\n",
    "\tShippingWeight,\n",
    "\tdescription String,\n",
    "\tMEMBER procedure getPriceforQuantity \n",
    "\tMEMBER procedure getTax \n",
    "\tMEMBER procedure inStock  \n",
    ")\n",
    "\n",
    "CREATE type ShippingWeight as object (\n",
    "\tnumberWeight NUMBER(100),\n",
    "\tdesWeight VARCHAR(100)\n",
    "\n",
    ");\n",
    "\n",
    "CREATE type ShippingWeight as object (\n",
    "\tnumberWeight NUMBER(100),\n",
    "\tdesWeight VARCHAR(100)\n",
    "\n",
    ");\n",
    "\n",
    "ALTER Table Order ADD orderDetal REF OrderDetail;\n",
    "\n",
    "ALTER Table Order ADD customer REF customer;\n",
    "\n",
    "ALTER Table OrderDetail ADD ITEM REF ITEM;\n",
    "\n",
    "\n",
    "\n",
    "``` \n",
    "\n"
   ]
  },
  {
   "cell_type": "markdown",
   "metadata": {},
   "source": [
    "\n",
    "\n",
    "\n",
    "### Imprimir informacion\n",
    "\n",
    "``` sql\n",
    "set serveroutput on\n",
    "DECLARE\n",
    "\taPayment Payment;\n",
    "\taCash Cash;\n",
    "\taOrder Order;\n",
    "BEGIN\n",
    "\taPayment := Payment(8000);\n",
    "\taCash := Cash(8000);\n",
    "    aOrder := Order('19/12/1999', 'completed');\n",
    "\tDBMS_OUTPUT.PUT_LINE(aPayment.amount || ' ' || aCash.cashTendered || '''s payment true ' || aOrder.date);\n",
    "\n",
    "\tINSERT INTO Cash VALUES aCash;\n",
    "\tINSERT INTO Order VALUES aOrder;\n",
    "    INSERT INTO Payment VALUES aPayment;\n",
    "\t\n",
    "END;\n",
    "``` "
   ]
  },
  {
   "cell_type": "markdown",
   "metadata": {},
   "source": [
    "Creacion CLOB"
   ]
  },
  {
   "cell_type": "markdown",
   "metadata": {},
   "source": [
    "``` sql\n",
    "CREATE TABLE Libro (\n",
    "titulo VARCHAR(200),\n",
    "id_libro INTEGER PRIMARY KEY,\n",
    "portada BFILE,\n",
    "texto_libro CLOB,\n",
    "pelicula BLOB\n",
    ");\n",
    "```"
   ]
  },
  {
   "cell_type": "markdown",
   "metadata": {},
   "source": [
    "- ▪ BLOB (Binary Large OBject): permite almacenar\n",
    "datos en formato binario.\n",
    "- ▪ CLOB (Character Large OBject): permite almacenar\n",
    "grandes cantidades de texto."
   ]
  },
  {
   "cell_type": "markdown",
   "metadata": {},
   "source": [
    "``` sql\n",
    "CREATE TABLE Libro (\n",
    "titulo VARCHAR(200),\n",
    "id_libro INTEGER PRIMARY KEY,\n",
    "portada BFILE,\n",
    "texto_libro CLOB DEFAULT EMPTY_CLOB(),\n",
    "pelicula BLOB DEFAULT EMPTY_BLOB()\n",
    ");\n",
    "• ó\n",
    "ALTER TABLE Libro MODIFY texto_libro DEFAULT\n",
    "EMPTY_CLOB();\n",
    "ALTER TABLE Libro MODIFY pelicula DEFAULT EMPTY_BLOB();\n",
    "``` \n"
   ]
  },
  {
   "cell_type": "markdown",
   "metadata": {},
   "source": [
    "Para insertar un valor de texto sobre un campo CLOB, se realiza de manera similar como si fuera un campo\n",
    "VARCHAR, ejemplo:\n",
    "``` sql\n",
    "INSERT INTO Libro(id_libro, texto_libro) Libro VALUES (2, 'texto muy muy\n",
    "largo del libro');\n",
    "```\n",
    "- Para obtener una parte del contenido de un CLOB se usa la función DBMS_LOB.SUBSTR:\n",
    "``` sql\n",
    "SELECT DBMS_LOB.SUBSTR(texto_libro, 20,10) FROM Libro;\n",
    "``` \n",
    "- obtiene 20caracteres de texto desde la posición 10\n",
    "- Para obtener la posición de un texto se usa la función DBMS_LOB.INSTR:\n",
    "``` sql\n",
    "SELECT DBMS_LOB.INSTR(texto_libro, 'y',1,2) FROM Libro; \n",
    "``` \n",
    "- -obtiene la posición del carácter 'y' en su segunda ocurrencia desde la primeraposición\n",
    "-  Para agregar más texto a un CLOB se usa la función DBMS_LOB.WRITEAPPEND:\n",
    "DECLARE\n",
    "``` sql\n",
    "v_clob CLOB;\n",
    "BEGIN\n",
    "SELECT texto_libro INTO v_clob FROM Libro WHERE id_libro = 2 for update;\n",
    "DBMS_LOB.WRITEAPPEND(v_clob, length(' al final'), ' al final');\n",
    "COMMIT;\n",
    "END;\n",
    "/\n",
    "``` "
   ]
  },
  {
   "cell_type": "markdown",
   "metadata": {},
   "source": [
    "Para trabajar con BLOB y BFILEs se requiere de objetos DIRECTORY (directorios) en la base de datos.\n",
    "- Los directorios no son objetos que le pertenecen a un esquema, todos los directorios creados son\n",
    "propiedad del usuario SYS.\n",
    "- Para crear directorios es necesario el privilegio de sistema \n",
    "``` sql CREATE ANY DIRECTORY. ``` \n",
    "- Estos objetos directorios serán una referencia a una ubicación de un directorio del sistema operativo:\n",
    "``` sql CREATE OR REPLACE DIRECTORY repositorio AS '/repositorio' -- en Windows será c:\\repositorio ```  \n",
    "- Se pueden agregar permisos a otros usuarios (precaución!!!):\n",
    "``` sql GRANT READ, WRITE ON DIRECTORY repositorio TO user1, user2; ``` \n",
    "- Para obtener los metadatos de los directorios se consulta la tabla del sistema \n",
    "``` sql DBA_DIRECTORIES. ``` \n"
   ]
  },
  {
   "cell_type": "markdown",
   "metadata": {},
   "source": [
    "#### Captura de tipo BFILES\n",
    "\n",
    " ``` sql INSERT INTO Libro(id_libro, portada)\n",
    "VALUES (3, BFILENAME('repositorio',\n",
    "'imagen02.jpg'));\n",
    "``` "
   ]
  },
  {
   "cell_type": "markdown",
   "metadata": {},
   "source": [
    "Se pueden emplear funciones de manejo de BFILE para obtener información:\n",
    "``` sql\n",
    "DECLARE\n",
    "v_file BFILE;\n",
    "v_nombre VARCHAR2(255);\n",
    "v_ruta VARCHAR(255);\n",
    "BEGIN\n",
    "SELECT portada INTO v_file FROM Libro WHERE id_libro = 3;\n",
    "DBMS_LOB.FILEGETNAME(v_file, v_ruta, v_nombre);\n",
    "DBMS_OUTPUT.PUT_LINE('Longitud: ' ||\n",
    "DBMS_LOB.GETLENGTH(v_file) || ' bytes, en la ruta ' ||\n",
    "v_ruta || '/' || v_archivo);\n",
    "END;\n",
    "/\n",
    "``` "
   ]
  },
  {
   "cell_type": "markdown",
   "metadata": {},
   "source": [
    "### Herencia\n",
    "``` sql\n",
    "CREATE TYPE tipoPersona AS OBJECT(\n",
    "DNI VARCHAR(9),\n",
    "nombre VARCHAR(25),\n",
    "fecha_nac DATE,\n",
    "direccion VARCHAR(1000)) NOT FINAL;\n",
    "CREATE TYPE tipoEmpleado UNDER tipoPersona (\n",
    "NoTrabajador NUMBER,\n",
    "salario NUMBER)NOT FINAL;\n",
    "CREATE TYPE tipoEstudiante UNDER tipoPersona (\n",
    "noBoleta NUMBER,\n",
    "carrera VARCHAR(100));\n",
    "CREATE TYPE tipoOperativo UNDER tipoEmpleado (\n",
    "area VARCHAR(20));\n",
    "CREATE TYPE tipoDirectivo UNDER tipoEmpleado (\n",
    "puesto VARCHAR(25),\n",
    "oficina VARCHAR(10));\n",
    "M. en C. Alejandro Botello C. 55\n",
    "CREATE TABLE Persona OF tipoPersona;\n",
    "INSERT INTO persona VALUES('12345', 'Juan\n",
    "Pérez',TO_DATE('12/4/1978','dd/mm/yyyy'),\n",
    "'Av. Palmas 23, Villas, Toluca');\n",
    "CREATE TABLE Empleado OF tipoEmpleado;\n",
    "INSERT INTO empleado VALUES (9876,\n",
    "8756.50); -- CONSTRUCTOR INCORRECTO\n",
    "INSERT INTO\n",
    "Empleado VALUES('45678','Laura Lopez',\n",
    "TO_DATE('9/11/1986','dd/mm/yyyy'), 'Cadiz\n",
    "564, Torres, Toluca', 9876, 8756.50);\n",
    "CREATE TABLE operativo OF tipoOperativo;\n",
    "INSERT INTO operativo\n",
    "VALUES('86420','José Aguado',\n",
    "TO_DATE('23/9/1982','dd/mm/yyyy'), 'Calle\n",
    "34 #298, Oriente, Ecatepec', 6754,\n",
    "6789.00, 'Soporte');\n",
    "CREATE TABLE directivo OF tipoDirectivo;\n",
    "INSERT INTO directivo VALUES('97642','Ana\n",
    "Padilla',TO_DATE('7/3/1992','dd/mm/yyyy')\n",
    ", 'Juan Escutia 213, Alamedas, Izcalli',\n",
    "8798, 9782.80, 'Director de Personal',\n",
    "'C-14');\n",
    "``` \n",
    "\n",
    "### Metodos\n",
    "``` sql\n",
    "CREATE OR REPLACE TYPE tipoPersona AS OBJECT(\n",
    "DNI VARCHAR(9),\n",
    "nombre VARCHAR(25),\n",
    "fecha_nac DATE,\n",
    "direccion VARCHAR(1000),\n",
    "MEMBER FUNCTION calcula_edad(fn DATE) RETURN\n",
    "INTEGER;\n",
    ")NOT FINAL;\n",
    "CREATE OR REPLACE TYPE BODY tipoPersona AS (\n",
    "MEMBER FUNCTION calcula_edad(fn DATE) RETURN INTEGER\n",
    "AS\n",
    "BEGIN\n",
    "RETURN trunc(months_between(SYSDATE, fn)/12);\n",
    "END;\n",
    "END;\n",
    "``` \n",
    "### Restricciones\n",
    "``` sql\n",
    "CREATE TABLE Persona OF tipoPersona\n",
    "(PRIMARY KEY (DNI),\n",
    "CHECK (direccion like (‘%Madrid%’)));\n",
    "CREATE TABLE Estudiante OF\n",
    "tipoEstudiante\n",
    "(PRIMARY KEY (nombre));\n",
    "CREATE TABLE Empleado OF tipoEmpleado\n",
    "(PRIMARY KEY (DNI));\n",
    "```\n",
    "\n",
    "### Ejemplo de Cuenta Bancaria\n",
    "``` sql\n",
    "CREATE TYPE BODY Cuenta_Bancaria AS\n",
    "MEMBER PROCEDURE abrir(cantidad IN REAL) IS\n",
    "BEGIN\n",
    "IF NOT cantidad > 0 THEN\n",
    "RAISE_APPLICATION_ERROR(-20104, ‘cantidad incorrecta’);\n",
    "END IF;\n",
    "SELECT secuencia_ctas.NEXTVAL INTO self.numero_cuenta FROM dual;\n",
    "self.estado := ‘abrir’;\n",
    "self.balance := cantidad;\n",
    "END abrir;\n",
    "MEMBER PROCEDURE verificar_cta(num IN INTEGER) IS\n",
    "BEGIN\n",
    "IF(num <> self.numero_cuenta) THEN\n",
    "RAISE_APPLICATION_ERROR(-20105, ‘numero incorrecto’);\n",
    "ELSEIF (self.estado = ‘cerrado’) THEN\n",
    "RAISE_APLLICATION_ERROR(-20106, ‘cuenta cerrada’);\n",
    "END IF;\n",
    "END verificar_cta;\n",
    "\n",
    "MEMBER PROCEDURE cancelar (num IN INTEGER) IS\n",
    "BEGIN\n",
    "verificar_cta(num);\n",
    "self.estado := ‘cerrado’;\n",
    "self.cantidad := 0;\n",
    "END cancelar;\n",
    "MEMBER PROCEDURE deposito(num IN INTEGER, cantidad IN REAL) IS\n",
    "BEGIN\n",
    "verificar_cta(num);\n",
    "IF NOT cantidad > 0 THEN\n",
    "RAISE_APPLICATION_ERROR(-20104, ‘cantidad incorrecta);\n",
    "END IF;\n",
    "self.balance := self.balance + cantidad;\n",
    "END deposito;\n",
    "\n",
    "\n",
    "MEMBER PROCEDURE sacar (num IN INTEGER, cantidad IN REAL) IS\n",
    "BEGIN\n",
    "verificar_cta(num);\n",
    "IF cantidad <= self.balance THEN\n",
    "self.balance:= self.balance – cantidad;\n",
    "ELSE\n",
    "RAISE_APPLICATION_ERROR(-20107,\n",
    "‘saldo insuficiente);\n",
    "END IF;\n",
    "END sacar;\n",
    "MEMBER FUNCTION saldo_actual (num IN INTEGER) RETURN REAL IS\n",
    "BEGIN\n",
    "verifcar_cta(num);\n",
    "RETURN self.balance;\n",
    "END saldo_actual;\n",
    "END;\n",
    "/\n",
    "```"
   ]
  },
  {
   "cell_type": "markdown",
   "metadata": {},
   "source": [
    "### Tutorial de XML\n",
    "\n",
    "Prologo\n",
    "\n",
    "``` xml\n",
    "<?xml version=\"1.0\" encoding=\"UTF\n",
    "-8 | ISO-8859-1 | windows-1252\"\n",
    "standalone=\"no | yes\"?>\n",
    "\n",
    "``` \n",
    "\n",
    "Ejemplo de Codigo\n",
    "\n",
    "``` xml\n",
    "<?xml version=\"1.0\" encoding=\"UTF-8\"?>\n",
    "<bookstore>\n",
    "  <book category=\"cooking\">\n",
    "    <title lang=\"en\">Everyday Italian</title>\n",
    "    <author>Giada De Laurentiis</author>\n",
    "    <year>2005</year>\n",
    "    <price>30.00</price>\n",
    "  </book>\n",
    "  <book category=\"children\">\n",
    "    <title lang=\"en\">Harry Potter</title>\n",
    "    <author>J K. Rowling</author>\n",
    "    <year>2005</year>\n",
    "    <price>29.99</price>\n",
    "  </book>\n",
    "  <book category=\"web\">\n",
    "    <title lang=\"en\">Learning XML</title>\n",
    "    <author>Erik T. Ray</author>\n",
    "    <year>2003</year>\n",
    "    <price>39.95</price>\n",
    "  </book>\n",
    "</bookstore>\n",
    "```"
   ]
  },
  {
   "cell_type": "markdown",
   "metadata": {},
   "source": [
    "- El elemento <password> puede contener letras mayúsculas, minúsculas y dígitos del 0-9, hasta\n",
    "máximo 8 caracteres.\n",
    "``` xml\n",
    "<xs:element name=\"password\">\n",
    "<xs:simpleType>\n",
    "<xs:restriction base=\"xs:string\">\n",
    "<xs:pattern value=\"[a-zA-Z0-9]{8}\"/>\n",
    "</xs:restriction>\n",
    "</xs:simpleType>\n",
    "</xs:element>\n",
    "```\n",
    "\n",
    "- El elemento <password> contiene únicamente entre 5 y 8 caracteres.\n",
    "``` xml\n",
    "<xs:element name=\"password\">\n",
    "<xs:simpleType>\n",
    "<xs:restriction base=\"xs:string\">\n",
    "<xs:minLength value=\"5\"/>\n",
    "<xs:maxLength value=\"8\"/>\n",
    "</xs:restriction>\n",
    "</xs:simpleType>\n",
    "</xs:element>\n",
    "``` \n"
   ]
  },
  {
   "cell_type": "markdown",
   "metadata": {},
   "source": [
    "XPATH"
   ]
  },
  {
   "cell_type": "markdown",
   "metadata": {},
   "source": [
    "![ALTER](./img/4.png)"
   ]
  },
  {
   "cell_type": "markdown",
   "metadata": {},
   "source": [
    "xmlSchema\n",
    "\n",
    "``` xml\n",
    "Orderdata.xml\n",
    "<Orderdata>\n",
    "<Customer fistName=“Bob” lastName=“Warren” emailAddress=“bob@mymailaddress.com”/>\n",
    "<Invoice/>\n",
    "</OrderData>\n",
    "\n",
    "``` \n",
    "Orderdata.xsd\n",
    "\n",
    "``` xml\n",
    "<xs:schema version=\"1.0“ xmlns:xs=“http://www.w3.org/2001/XMLSchema”\n",
    "elementFormDefault=\"qualified\">\n",
    "<xs:element name=“OrderData”>\n",
    "<xs:complexType>\n",
    "<xs:sequence>\n",
    "<xs:element name=“Customer” >\n",
    "<xs:complexType>\n",
    "<xs:attribute name=“firstName” type=“xs:string” use=“required” />\n",
    "<xs:attribute name=“lastName” type=“xs:string” use=“required” />\n",
    "<xs:attribute name=“emailAddress type=“xs:string” />\n",
    "</xs:complexType>\n",
    "</xs:element>\n",
    "<xs:element name=“Invoice” type=“xs:string” />\n",
    "</xs:sequence>\n",
    "</xs:complexType>\n",
    "</xs:element>\n",
    "</xs:schema>\n",
    "\n",
    "``` "
   ]
  },
  {
   "cell_type": "markdown",
   "metadata": {},
   "source": [
    "xmlType\n",
    "\n",
    "```sql\n",
    "CREATE TABLE Person ( id int primary key, nombre\n",
    "varchar2(20) not null, direccion xmlType);\n",
    "INSERT INTO Person(id,nombre,direccion) VALUES(1,\n",
    "'Peter Smith', XMLTYPE('<MailAddressTo\n",
    "id=\"1\"><Person>Peter Smith</Person> <Street>10\n",
    "Apple Tree Lane</Street><City>New\n",
    "York</City><State>NY</State<Zipcode>12345</Zipcode>\n",
    "</MailAddressTo>'));\n",
    "SELECT extract(direccion, '/MailAddressTo/Street')\n",
    "FROM Person;\n",
    "UPDATE Person SET direccion =\n",
    "XMLTYPE('<MailAddressTo id=\"1\"><Person>Peter\n",
    "Smith</Person> <Street>10 Downing\n",
    "Street</Street><City>London</City>\n",
    "<State>England</State> <Zipcode>22334</Zipcode></Ma\n",
    "ilAddressTo>');\n",
    "```\n"
   ]
  },
  {
   "cell_type": "markdown",
   "metadata": {},
   "source": [
    "### Consultas XML"
   ]
  },
  {
   "cell_type": "markdown",
   "metadata": {},
   "source": [
    "```xml\n",
    "\n",
    "SELECT XMLParse(CONTENT '<purchaseOrder poNo=12435><customerName>Acme Enterprises</customerName><itemNo>32987457</itemNo></purchaseOrder>'        WELLFORMED) AS res FROM DUAL d;\n",
    "```"
   ]
  },
  {
   "cell_type": "markdown",
   "metadata": {},
   "source": [
    "```xml\n",
    "\n",
    "SELECT sys_xmlgen(xmlelement(\"nombre\", xmlattributes(e.employee_id as \"id\"), e.first_name || ' ' || e.last_name)) as empleado from hr.employees e where e.employee_id = 200;\n",
    "```"
   ]
  },
  {
   "cell_type": "markdown",
   "metadata": {},
   "source": [
    "```xml\n",
    "SELECT XMLElement(\"Empleado\",XMLAttributes(e.first_name ||' '|| e.last_name AS \"nombre\"), XMLForest(e.hire_date, e.department_id AS \"departmento\")) AS res FROM hr.employees e WHERE e.department_id = 20;\n",
    "```"
   ]
  },
  {
   "cell_type": "markdown",
   "metadata": {},
   "source": [
    "-----\n",
    "\n",
    "Data warehouse vs BD Relacional\n",
    "- La primera diferencia: uno registra, el otro agrega datos para análisis. , La segunda diferencia datawarehouse: una está relacionada con la aplicación, la otra está al servicio del analista.\n",
    "\n",
    "----\n",
    "\n",
    "Data lake vs data warehouse\n",
    "\n",
    "- El lago de datos conserva todos los datos, a diferencia del almacén de datos, donde se dedica una parte importante de tiempo a decidir qué datos incluir y no incluir en el almacén\n",
    "- El lago de datos conserva todos los datos, a diferencia del almacén de datos, donde se dedica una parte importante de tiempo a decidir qué datos incluir y no incluir en el almacén\n",
    "- El Data Lake puede nutrir a todos los usuarios de la organización, incluyendo a esos perfiles técnicos con exigencias de análisis más avanzadas, que son quienes recurren a capacidades como análisis estadístico y modelado predictivo.\n",
    "- A diferencia del Data Warehouse, el <b>Data Lakes se adapta fácilmente a los cambios.</b> El diseño del almacén es un proceso complejo y, la actualidad de loso negocios, en ocasiones no puede esperar tanto tiempo. Para esas circunstancias, asegura la adaptabilidad necesaria para entregar respuestas más rápidas."
   ]
  },
  {
   "cell_type": "markdown",
   "metadata": {},
   "source": [
    "### Teoría para resolver XML"
   ]
  },
  {
   "cell_type": "markdown",
   "metadata": {},
   "source": [
    "- CDATA\n",
    "En un documento, una sección CDATA es aquella perteneciente a un documento que es marcado para que el analizador sintáctico lo interprete como una cadena de caracteres y no como contenido etiquetado."
   ]
  },
  {
   "cell_type": "markdown",
   "metadata": {},
   "source": [
    "- NameSpaces\n",
    "Un espacio de nombres XML es una recomendación W3C para proporcionar elementos y atributos con nombre único en un archivo XML."
   ]
  },
  {
   "cell_type": "markdown",
   "metadata": {},
   "source": [
    "- OLTP o procesamiento de transacciones en línea (Online Transaction Processing) es un tipo de procesamiento de datos que consiste en ejecutar una serie de transacciones que ocurren simultáneamente en la banca en línea, las compras, la entrada de pedidos o el envío de mensajes de texto, por ejemplo.\n",
    "\n",
    "- El procesamiento analítico en línea (OLAP) es una tecnología que se usa para organizar bases de datos empresariales grandes y admitir inteligencia empresarial.\n",
    "\n",
    "- Business Inteligence Conjunto de estrategias, aplicaciones, datos, productos, tecnologías y arquitectura técnicas, los cuales están enfocados a la administración y creación de conocimiento sobre el medio, a través del análisis de los datos existentes en una organización o empresa."
   ]
  },
  {
   "cell_type": "markdown",
   "metadata": {},
   "source": [
    "## NO SQL"
   ]
  },
  {
   "cell_type": "markdown",
   "metadata": {},
   "source": [
    "- El teorema CAP o teorema Brewer, dice que en sistemas distribuidos es imposible\n",
    "garantizar a la vez: la consistencia, la disponibilidad y la tolerancia a particiones\n",
    "(Consistency-Availability-Partition Tolerance):\n",
    "- Consistencia: al realizar una consulta o inserción siempre se tiene que recibir la\n",
    "misma información, con independencia del nodo o servidor que procese la petición.\n",
    "- Disponibilidad: que todos los clientes puedan leer y escribir, aunque se haya caído\n",
    "uno de los nodos.\n",
    "- Tolerancia a particiones: a veces traducido como tolerancia a fallos. Es una\n",
    "traducción que no me gusta, ya que se confunde con el punto anterior. Los sistemas\n",
    "distribuidos pueden estar divididos en particiones (generalmente de forma\n",
    "geográfica). Así que esta condición implica, que el sistema tiene que seguir\n",
    "funcionando aunque existan fallos o caídas parciales que dividan el sistema."
   ]
  },
  {
   "cell_type": "markdown",
   "metadata": {},
   "source": [
    "#### Clasificacion de Bases de Datos\n",
    "- Orientadas a documentos.-son las más versátiles, gestionan datos semi-estructurados o documentos que son almacenados\n",
    "en algún formato estándar como puede ser XML, JSON o BSON. Ejemplos: MongoDB (utilizada por Foursquare o eBay),\n",
    "CouchDB, Couchbase Server, MarkLogic.\n",
    "- Orientadas a columnas.- pensadas para realizar consultas y agregaciones sobre grandes cantidades de datos, funcionan de\n",
    "forma parecida a las bases de datos relacionales, pero almacenando columnas de datos en lugar de registros. Ejemplos:\n",
    "Accumulo, Cassandra, HBase (mantenida por Hadoop; utilizada por Facebook, Twitter o Yahoo), Apache Flink\n",
    "- De clave-valor.- las más simples de entender, guardan tuplas clave-valor. Ejemplos: Aerospike, Redis, Riak, DynamoDB,\n",
    "Berkeley DB\n",
    "- En grafo.- basadas en la teoría de grafos, utilizan nodos y aristas para representar los datos almacenados, y son muy útiles\n",
    "para guardar información en modelos con muchas relaciones, como redes y conexiones sociales. Ejemplos: InfiniteGraph,\n",
    "Neo4j (utilizada en Infojobs)\n",
    "- Multimodelo.- presentan una combinación de dos o más tipos de almacenamiento. Ejemplos ArangoDB, OpenLinkVirtuoso,\n",
    "OrientDB, Oracle NoSQL"
   ]
  },
  {
   "cell_type": "markdown",
   "metadata": {},
   "source": [
    "### Hadoop \n",
    "- La idea de contar con un gran número de nodos y\n",
    "cada uno con posibilidad de fallas, significa que en\n",
    "todo momento algún componente siempre no será\n",
    "funcional.\n",
    "- Por lo tanto, la detección de fallas y rápida\n",
    "recuperación automática de un sistema distribuido\n",
    "debe es un objetivo central de la arquitectura de HDFS\n",
    "### Hadoop Distributed File System(HDFS)\n",
    "- Los datos en el clúster de Hadoop son divididos en\n",
    "pequeñas piezas llamadas bloques y distribuidas a través del\n",
    "clúster; de esta manera, las funciones map y reduce pueden\n",
    "ser ejecutadas en pequeños subconjuntos y esto provee de\n",
    "la escalabilidad necesaria para el procesamiento de grandes\n",
    "volúmenes.\n",
    "\n",
    "### Hadoop MapReduce\n",
    "- El primer proceso es map, el cual toma un\n",
    "conjunto de datos y lo convierte en otro\n",
    "conjunto, donde los elementos individuales\n",
    "son separados en tuplas (pares de\n",
    "llave/valor)\n",
    "-  El proceso reduce obtiene la salida de map\n",
    "como datos de entrada y combina las tuplas\n",
    "en un conjunto más pequeño de las mismas.\n"
   ]
  },
  {
   "cell_type": "markdown",
   "metadata": {},
   "source": [
    "### MONGO DB\n",
    "- Para crear una nueva base de datos, denominada book, se ejecuta el comando mongo en la terminal de línea de comandos.\n",
    "``` \n",
    "mongo book\n",
    "```\n"
   ]
  },
  {
   "cell_type": "markdown",
   "metadata": {},
   "source": [
    "- Crear una coleccion\n",
    "```\n",
    "db.towns.insert({\n",
    "name: \"New York\",\n",
    "population: 22200000,\n",
    "lastCensus: ISODate(\"2016-07-01\"),\n",
    "famousFor: [ \"the MOMA\", \"food\", \"Derek Jeter\" ],\n",
    "mayor : {\n",
    "name : \"Bill de Blasio\",\n",
    "party : \"D\"\n",
    "}\n",
    "})\n",
    "```"
   ]
  },
  {
   "cell_type": "markdown",
   "metadata": {},
   "source": [
    "#### Consultas\n",
    "-  db.towns.find()\n",
    "```\n",
    "var population_range = {\n",
    "$lt: 1000000,\n",
    "$gt: 10000\n",
    "}\n",
    "```\n",
    "- db.towns.find(\n",
    "{ name : /^P/, population : population_range },\n",
    "{ name: 1 }\n",
    ")\n",
    "\n"
   ]
  },
  {
   "cell_type": "markdown",
   "metadata": {},
   "source": [
    "AND en Mongo DB\n",
    "```\n",
    ">db.mycol.find(\n",
    "{\n",
    "$and: [\n",
    "{key1: value1}, {key2:value2}\n",
    "]\n",
    "}\n",
    "```"
   ]
  },
  {
   "cell_type": "markdown",
   "metadata": {},
   "source": [
    "ELEM MATCH\n",
    "```\n",
    "db.countries.find(\n",
    "{\n",
    "'exports.foods' : {\n",
    "$elemMatch : {tasty : true, condiment :{$exists : true}}\n",
    "}\n",
    "}, { _id : 0, name : 1 })\n",
    "{\"name\" : \"Mexico\" }\n",
    "```\n"
   ]
  },
  {
   "cell_type": "markdown",
   "metadata": {},
   "source": [
    "UPDATE\n",
    "```\n",
    "db.towns.update(\n",
    "{ _id : ObjectId(\"4d0ada87bb30773266f39fe5\")},\n",
    "{ $set : { \"state\" : \"OR\" } }\n",
    ");\n",
    "```"
   ]
  },
  {
   "cell_type": "markdown",
   "metadata": {},
   "source": [
    "Ordenar descendente\n",
    "```\n",
    "db.mycol.find({},{\"title\":1,_id:0}).s\n",
    "ort({\"title\":-1})\n",
    "{\"title\":\"Tutorials Point Overview\"}\n",
    "{\"title\":\"NoSQL Overview\"}\n",
    "{\"title\":\"MongoDB Overview\"}\n",
    "```"
   ]
  },
  {
   "cell_type": "markdown",
   "metadata": {},
   "source": [
    "Eliminar\n",
    "```\n",
    " var badBacon ={'exports.foods'\n",
    ":{$elemMatch : {name : 'bacon', tasty :\n",
    "false}\n",
    "}\n",
    "}\n",
    "```\n",
    "\n",
    "db.countries.remove(badBacon)\n"
   ]
  },
  {
   "cell_type": "markdown",
   "metadata": {},
   "source": [
    "-Crear Indice\n",
    "db.mycol.createIndex({\"title\":1})"
   ]
  },
  {
   "cell_type": "markdown",
   "metadata": {},
   "source": [
    "Funcion Similar COUNT y DISTINCT\n",
    "```db.phones.count({'components.number': {\n",
    "$gt : 5599999 }})\n",
    "50000\n",
    "```\n",
    "\n"
   ]
  },
  {
   "cell_type": "markdown",
   "metadata": {},
   "source": [
    "### ORACLE NO SQL\n",
    "-Cada entidad (registro) es un conjunto de pares clave-valor. Una clave tiene varios\n",
    "componentes, especificados como una lista ordenada.\n",
    "- La clave mayor identifica la entidad y consta de los componentes principales de la clave. Los\n",
    "componentes posteriores se denominan claves menores.\n",
    "- Una base de datos Oracle NoSQL se utiliza a menudo para\n",
    "almacenar objetos grandes como imágenes, audio, vídeos\n",
    "y mapas.\n",
    "- Debido a que las claves se hashean en las particiones disponibles, es posible que algunas\n",
    "particiones sean más grandes que otras.\n",
    "- El factor de replicación de un almacén de Oracle NoSQL Database define el número de\n",
    "réplicas que tiene cada fragmento. Cada fragmento dentro de un almacén de oracle\n",
    "NoSQL Database debe tener el mismo factor de replicación.\n",
    "\n",
    "\n",
    "- Crear una tabla\n",
    "```console\n",
    "kv->table create -name usuario\n",
    "usuario->add-field -name Id -type integer\n",
    "usuario->add-field -name nombre -type string\n",
    "usuario->add-field -name apellidos -type string\n",
    "usuario->add-record-field -name domicilio\n",
    "usuario.domicilio->add-field -name calle -type string\n",
    "usuario.domicilio->add-field -name numero -type integer\n",
    "usuario.domicilio->add-field -name colonia -type string\n",
    "usuario.domicilio->add-field -name ciudad -type string\n",
    "usuario.domicilio->exit\n",
    "usuario->add-field -name genero -type ENUM -enum-values M,F\n",
    "usuario->add-field -name edad -type integer\n",
    "usuario->primary-key -field Id\n",
    "usuario->show\n",
    "usuario->exit\n",
    "```"
   ]
  },
  {
   "cell_type": "markdown",
   "metadata": {},
   "source": [
    "Agregar Valores\n",
    "```\n",
    "kv->put kv -key /usuario/Id -value 1\n",
    "kv->put kv -key /usuario/nombre -value 'Juan'\n",
    "kv->put kv -key /usuario/apellidos -value 'Pérez López'\n",
    "kv->put kv -key /usuario/genero -value M\n",
    "kv->put kv -key /usuario/domicilio/calle -value 'Av. Juarez'\n",
    "kv->put kv -key /usuario/domicilio/numero -value 256\n",
    "kv->put kv -key /usuario/domicilio/colonia -value 'Independencia'\n",
    "kv->put kv -key /usuario/domicilio/ciudad -value 'Cuernavaca'\n",
    "```\n",
    "\n",
    "Consulta\n",
    "```\n",
    "kv->get kv -key /usuario -all\n",
    "kv->get kv -key /usuario -all -keyonly\n",
    "kv->get kv -key /usuario -all -valueonly\n",
    "```"
   ]
  },
  {
   "cell_type": "markdown",
   "metadata": {},
   "source": [
    "### ACID\n",
    "- ACID es el conjunto de propiedades que garantizan que las transacciones de una Base de Datos se procesan de manera fiable. De forma muy resumida, las propiedades son:\n",
    "\n",
    "- Atomicidad: un cambio debe completarse en su totalidad o no modificar nada en absoluto.\n",
    "- Consistencia: cualquier cambio debe conducir de un estado válido de la base de datos a otro estado válido de acuerdo con las restricciones y el esquema de datos.\n",
    "- Aislamiento (Isolation): un cambio no debe afectar a otros cambios que se estén ejecutando al mismo tiempo sobre la base de datos.\n",
    "Durabilidad: una vez completado el cambio, éste debe conservarse, aunque se produzcan fallos en la base de datos o el sistema completo."
   ]
  },
  {
   "cell_type": "markdown",
   "metadata": {},
   "source": [
    "### NEO4J"
   ]
  },
  {
   "cell_type": "markdown",
   "metadata": {},
   "source": [
    "- Una base de datos orientada a grafos es un sistema de\n",
    "administración de bases de datos en línea con\n",
    "operaciones de Crear, Leer, Actualizar y Eliminar (CRUD)\n",
    "que trabajan en un modelo de datos de grafos.\n",
    "- A diferencia de otras bases de datos, las relaciones tienen\n",
    "prioridad en las bases de datos de orientadas a grafos."
   ]
  },
  {
   "cell_type": "markdown",
   "metadata": {},
   "source": [
    "Consultas\n",
    "``` sql\n",
    "MATCH [some set of nodes and/or\n",
    "relationships]\n",
    "WHERE [some set of properties holds]\n",
    "RETURN [some set of results captured\n",
    "by the MATCH and WHERE clauses] \n",
    "``` "
   ]
  },
  {
   "cell_type": "markdown",
   "metadata": {},
   "source": [
    "### Crear Nodo\n",
    "-Crear Espacio\n",
    "``` sql\n",
    "CREATE (al1:alumno)\n",
    "``` \n",
    "- Insertar valor\n",
    "``` sql\n",
    "CREATE (node:label {\n",
    "key1: value, key2: value, . })\n",
    "CREATE(al2:alumno{noboleta:\n",
    "2020223, nombre:'Juan',\n",
    "apellidos:'Pérez López',\n",
    "genero:'M', fecha_nac:'03-08-2000'})\n",
    "``` \n",
    "- Buscar\n",
    "``` sql\n",
    "MATCH (n) RETURN n\n",
    "``` \n",
    "- Crear relacion \n",
    "``` sql\n",
    "CREATE (node1)-[label:RelationshipType]->(node2)\n",
    "CREATE (al3:alumno{noboleta:2020,nombre:'Isela',\n",
    "apellidos:'Martínez López', genero:'F', fecha_nac:'19/09/2020'})-\n",
    "[amistad:es_amigo]-\n",
    ">(al4:alumno{noboleta:20198765,nombre:'Martín',apellidos:'Pérez\n",
    "Cañedo', genero:'M'})\n",
    "``` \n",
    "- Crear relacion entre nodos existentes\n",
    "\n",
    "``` sql\n",
    "MATCH (x:alumno), (y:alumno)\n",
    "where x.noboleta = 2023456 and y.noboleta= 2020223\n",
    "CREATE (x) -[amistad:es_amigo{tiempo: 2}]->(y) RETURN x,y\n",
    "\n",
    "``` \n",
    "-Clausula Where\n",
    "``` sql\n",
    "MATCH (a:alumno) WHERE a.fecha_nac is null\n",
    "RETURN a\n",
    "``` \n",
    "\n",
    "- Eliminar \n",
    "``` sql\n",
    "MATCH (n) DETACH DELETE n\n",
    "``` \n",
    "- Count\n",
    "``` sql\n",
    "MATCH(a:alumno) RETURN COUNT(a)\n",
    "``` \n"
   ]
  }
 ],
 "metadata": {
  "kernelspec": {
   "display_name": "Python 3.10.5 64-bit",
   "language": "python",
   "name": "python3"
  },
  "language_info": {
   "codemirror_mode": {
    "name": "ipython",
    "version": 3
   },
   "file_extension": ".py",
   "mimetype": "text/x-python",
   "name": "python",
   "nbconvert_exporter": "python",
   "pygments_lexer": "ipython3",
   "version": "3.10.5"
  },
  "orig_nbformat": 4,
  "vscode": {
   "interpreter": {
    "hash": "c8045260058ce78d91bfcba6f26a8332d255756bd7658ea995399a8c233e7bf8"
   }
  }
 },
 "nbformat": 4,
 "nbformat_minor": 2
}
